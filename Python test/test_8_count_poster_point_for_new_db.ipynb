{
 "cells": [
  {
   "cell_type": "code",
   "execution_count": 1,
   "metadata": {},
   "outputs": [],
   "source": [
    "from sklearn.neighbors import BallTree\n",
    "import numpy as np\n",
    "import matplotlib.pyplot as plt\n",
    "import pandas as pd\n",
    "import time\n",
    "import random\n",
    "from tqdm import tqdm_notebook\n",
    "import pickle\n",
    "from matplotlib.ticker import ScalarFormatter"
   ]
  },
  {
   "cell_type": "code",
   "execution_count": 2,
   "metadata": {},
   "outputs": [],
   "source": [
    "data = pd.read_csv(\"new_db\",delimiter =\"\\t\",header=-1)#ненормированны\n",
    "data1 = pd.read_csv(\"new_db_no_zeros.txt\",delimiter =\"\\t\",header=-1)#ненормированны\n",
    "\n",
    "#data_test = pd.read_csv(\"borovkova/database_txt/test_1000.txt\",delimiter =\"\\t\",header=-1)#нормированны\n",
    "\n",
    "data_exp = pd.read_csv(\"borovkova/database_txt/experiment_1000.txt\",delimiter =\"\\t\",header=-1)#нормированны"
   ]
  },
  {
   "cell_type": "code",
   "execution_count": 14,
   "metadata": {},
   "outputs": [
    {
     "data": {
      "text/plain": [
       "(199877, 185)"
      ]
     },
     "execution_count": 14,
     "metadata": {},
     "output_type": "execute_result"
    }
   ],
   "source": [
    "data.shape"
   ]
  },
  {
   "cell_type": "code",
   "execution_count": 3,
   "metadata": {},
   "outputs": [],
   "source": [
    "tetta = np.linspace(10,70,61)\n",
    "w = np.exp(-2*np.log(tetta/54)**2)/tetta\n",
    "\n",
    "data.iloc[:,4+10:4+71] = data.iloc[:,4+10:4+71]*w\n",
    "data1.iloc[:,4+10:4+71] = data1.iloc[:,4+10:4+71]*w"
   ]
  },
  {
   "cell_type": "code",
   "execution_count": 4,
   "metadata": {},
   "outputs": [],
   "source": [
    "data_train = data1.values[:-1000,4+10:4+71]\n",
    "data_test = data1.values[-1000:,4+10:4+71]"
   ]
  },
  {
   "cell_type": "code",
   "execution_count": 9,
   "metadata": {},
   "outputs": [
    {
     "data": {
      "image/png": "[encoded data removed]",
      "text/plain": [
       "<Figure size 432x288 with 1 Axes>"
      ]
     },
     "metadata": {
      "needs_background": "light"
     },
     "output_type": "display_data"
    }
   ],
   "source": [
    "plt.plot(tetta, data_exp.iloc[502,:])\n",
    "\n",
    "plt.title(\"Типичный сигнал\")\n",
    "plt.legend([\"Индикатриса\"])\n",
    "#plt.axis([2.9,6,2.4,6])\n",
    "plt.xlabel(\"Угол рассеяния, градусы\")\n",
    "plt.ylabel(\"Интенсивность, отн.ед.\")\n",
    "\n",
    "plt.savefig(\"indiatix.svg\",format = 'svg')\n",
    "plt.show()"
   ]
  },
  {
   "cell_type": "code",
   "execution_count": 3,
   "metadata": {},
   "outputs": [],
   "source": [
    "np.savetxt(\"new_db_61.data\",np.concatenate((data.values[:-1000,:4],\n",
    "                                           data.values[:-1000,14:4+71]),axis=1),delimiter='\\t', fmt = '%10.8f')\n",
    "np.savetxt(\"new_test_61.data\",np.concatenate((data.values[-1000:,:4],\n",
    "                                           data.values[-1000:,14:4+71]),axis=1),delimiter='\\t', fmt = '%10.8f')"
   ]
  },
  {
   "cell_type": "code",
   "execution_count": 4,
   "metadata": {},
   "outputs": [
    {
     "name": "stdout",
     "output_type": "stream",
     "text": [
      "Wall time: 8.94 s\n",
      "Wall time: 5.43 s\n",
      "8900670\n"
     ]
    }
   ],
   "source": [
    "#Подсчет количества сравнеий в реальной базе\n",
    "%time ball_tree = BallTree(data.iloc[:,4+10:4+71], leaf_size=1)\n",
    "ball_tree.reset_n_calls()\n",
    "%time res = ball_tree.query(data_exp, k=1)\n",
    "print(ball_tree.get_n_calls())"
   ]
  },
  {
   "cell_type": "code",
   "execution_count": 5,
   "metadata": {},
   "outputs": [
    {
     "name": "stdout",
     "output_type": "stream",
     "text": [
      "Wall time: 9.03 s\n",
      "Wall time: 5 s\n",
      "8893124\n"
     ]
    }
   ],
   "source": [
    "#Подсчет количества сравнеий в реальной базе БЕЗ НУЛЕЙ!\n",
    "%time ball_tree1 = BallTree(data1.iloc[:,4+10:4+71], leaf_size=1)\n",
    "ball_tree1.reset_n_calls()\n",
    "%time res = ball_tree1.query(data_exp, k=1)\n",
    "print(ball_tree1.get_n_calls())"
   ]
  },
  {
   "cell_type": "code",
   "execution_count": 10,
   "metadata": {},
   "outputs": [],
   "source": [
    "ref_points = np.logspace(3,np.log(200337)/np.log(10) + 0.001,30).astype('int64')"
   ]
  },
  {
   "cell_type": "code",
   "execution_count": 8,
   "metadata": {},
   "outputs": [
    {
     "data": {
      "text/plain": [
       "array([  1000,   1200,   1441,   1730,   2077,   2493,   2993,   3594,\n",
       "         4314,   5180,   6218,   7465,   8963,  10760,  12918,  15508,\n",
       "        18618,  22351,  26833,  32214,  38674,  46429,  55739,  66916,\n",
       "        80335,  96444, 115784, 139001, 166875, 200337], dtype=int64)"
      ]
     },
     "execution_count": 8,
     "metadata": {},
     "output_type": "execute_result"
    }
   ],
   "source": [
    "ref_points"
   ]
  },
  {
   "cell_type": "code",
   "execution_count": 9,
   "metadata": {},
   "outputs": [],
   "source": [
    "def calc_time_for_samples(brute_tree, ball_tree, test_data, deep = 1):\n",
    "    start_time = time.clock()\n",
    "    dist1, ind1 = brute_tree.query(test_data, k=deep)\n",
    "    brute_tree_summary_time = time.clock() - start_time\n",
    "    \n",
    "    start_time = time.clock()\n",
    "    dist2, ind2 = ball_tree.query(test_data, k=deep)\n",
    "    ball_tree_summary_time = time.clock() - start_time\n",
    "    \n",
    "    assert np.array_equal(ind1,ind2)\n",
    "    return brute_tree_summary_time, ball_tree_summary_time"
   ]
  },
  {
   "cell_type": "code",
   "execution_count": 10,
   "metadata": {},
   "outputs": [],
   "source": [
    "def count_one_sample(data_points, data):\n",
    "    ball_times = []\n",
    "    brute_times = []\n",
    "\n",
    "    ball_comps = []\n",
    "    brute_comps = []\n",
    "\n",
    "    for len_of_data in tqdm_notebook(ref_points):\n",
    "        ball_tree = BallTree(data[:len_of_data], leaf_size=1) \n",
    "        brute_tree = BallTree(data[:len_of_data], leaf_size=data.shape[0])\n",
    "        #print (\"Teached dataset of \" + str(len_of_data) + \" objects\")\n",
    "        brute_tree.reset_n_calls()\n",
    "        ball_tree.reset_n_calls()\n",
    "        brute_time, ball_time = calc_time_for_samples(brute_tree, ball_tree, data_points)\n",
    "        ball_times.append(ball_time)\n",
    "        brute_times.append(brute_time)\n",
    "        ball_comps.append(ball_tree.get_n_calls())\n",
    "        brute_comps.append(brute_tree.get_n_calls())\n",
    "        #print (ball_tree.get_n_calls())\n",
    "        #print (brute_tree.get_n_calls())\n",
    "        \n",
    "    return ball_times, brute_times, ball_comps, brute_comps"
   ]
  },
  {
   "cell_type": "code",
   "execution_count": 11,
   "metadata": {},
   "outputs": [
    {
     "data": {
      "application/vnd.jupyter.widget-view+json": {
       "model_id": "bcd0a4cc24f341abba3b2c24edb67133",
       "version_major": 2,
       "version_minor": 0
      },
      "text/plain": [
       "HBox(children=(IntProgress(value=0, max=3), HTML(value='')))"
      ]
     },
     "metadata": {},
     "output_type": "display_data"
    },
    {
     "data": {
      "application/vnd.jupyter.widget-view+json": {
       "model_id": "3b9b5ea9fa9b4231b6673ca25a31d673",
       "version_major": 2,
       "version_minor": 0
      },
      "text/plain": [
       "HBox(children=(IntProgress(value=0, max=30), HTML(value='')))"
      ]
     },
     "metadata": {},
     "output_type": "display_data"
    },
    {
     "name": "stdout",
     "output_type": "stream",
     "text": [
      "Teached dataset of 1000 objects\n",
      "Teached dataset of 1200 objects\n",
      "Teached dataset of 1441 objects\n",
      "Teached dataset of 1730 objects\n",
      "Teached dataset of 2077 objects\n",
      "Teached dataset of 2493 objects\n",
      "Teached dataset of 2993 objects\n",
      "Teached dataset of 3594 objects\n",
      "Teached dataset of 4314 objects\n",
      "Teached dataset of 5180 objects\n",
      "Teached dataset of 6218 objects\n",
      "Teached dataset of 7465 objects\n",
      "Teached dataset of 8963 objects\n",
      "Teached dataset of 10760 objects\n",
      "Teached dataset of 12918 objects\n",
      "Teached dataset of 15508 objects\n",
      "Teached dataset of 18618 objects\n",
      "Teached dataset of 22351 objects\n",
      "Teached dataset of 26833 objects\n",
      "Teached dataset of 32214 objects\n",
      "Teached dataset of 38674 objects\n",
      "Teached dataset of 46429 objects\n",
      "Teached dataset of 55739 objects\n",
      "Teached dataset of 66916 objects\n",
      "Teached dataset of 80335 objects\n",
      "Teached dataset of 96444 objects\n",
      "Teached dataset of 115784 objects\n",
      "Teached dataset of 139001 objects\n",
      "Teached dataset of 166875 objects\n",
      "Teached dataset of 200337 objects\n"
     ]
    },
    {
     "data": {
      "application/vnd.jupyter.widget-view+json": {
       "model_id": "c56baa235cfe4ae4b4f637d3fa60f35e",
       "version_major": 2,
       "version_minor": 0
      },
      "text/plain": [
       "HBox(children=(IntProgress(value=0, max=30), HTML(value='')))"
      ]
     },
     "metadata": {},
     "output_type": "display_data"
    },
    {
     "name": "stdout",
     "output_type": "stream",
     "text": [
      "Teached dataset of 1000 objects\n",
      "Teached dataset of 1200 objects\n",
      "Teached dataset of 1441 objects\n",
      "Teached dataset of 1730 objects\n",
      "Teached dataset of 2077 objects\n",
      "Teached dataset of 2493 objects\n",
      "Teached dataset of 2993 objects\n",
      "Teached dataset of 3594 objects\n",
      "Teached dataset of 4314 objects\n",
      "Teached dataset of 5180 objects\n",
      "Teached dataset of 6218 objects\n",
      "Teached dataset of 7465 objects\n",
      "Teached dataset of 8963 objects\n",
      "Teached dataset of 10760 objects\n",
      "Teached dataset of 12918 objects\n",
      "Teached dataset of 15508 objects\n",
      "Teached dataset of 18618 objects\n",
      "Teached dataset of 22351 objects\n",
      "Teached dataset of 26833 objects\n",
      "Teached dataset of 32214 objects\n",
      "Teached dataset of 38674 objects\n",
      "Teached dataset of 46429 objects\n",
      "Teached dataset of 55739 objects\n",
      "Teached dataset of 66916 objects\n",
      "Teached dataset of 80335 objects\n",
      "Teached dataset of 96444 objects\n",
      "Teached dataset of 115784 objects\n",
      "Teached dataset of 139001 objects\n",
      "Teached dataset of 166875 objects\n",
      "Teached dataset of 200337 objects\n"
     ]
    },
    {
     "data": {
      "application/vnd.jupyter.widget-view+json": {
       "model_id": "d8fc5435b9df4c2e8c24ea9c83cd0d7b",
       "version_major": 2,
       "version_minor": 0
      },
      "text/plain": [
       "HBox(children=(IntProgress(value=0, max=30), HTML(value='')))"
      ]
     },
     "metadata": {},
     "output_type": "display_data"
    },
    {
     "name": "stdout",
     "output_type": "stream",
     "text": [
      "Teached dataset of 1000 objects\n",
      "Teached dataset of 1200 objects\n",
      "Teached dataset of 1441 objects\n",
      "Teached dataset of 1730 objects\n",
      "Teached dataset of 2077 objects\n",
      "Teached dataset of 2493 objects\n",
      "Teached dataset of 2993 objects\n",
      "Teached dataset of 3594 objects\n",
      "Teached dataset of 4314 objects\n",
      "Teached dataset of 5180 objects\n",
      "Teached dataset of 6218 objects\n",
      "Teached dataset of 7465 objects\n",
      "Teached dataset of 8963 objects\n",
      "Teached dataset of 10760 objects\n",
      "Teached dataset of 12918 objects\n",
      "Teached dataset of 15508 objects\n",
      "Teached dataset of 18618 objects\n",
      "Teached dataset of 22351 objects\n",
      "Teached dataset of 26833 objects\n",
      "Teached dataset of 32214 objects\n",
      "Teached dataset of 38674 objects\n",
      "Teached dataset of 46429 objects\n",
      "Teached dataset of 55739 objects\n",
      "Teached dataset of 66916 objects\n",
      "Teached dataset of 80335 objects\n",
      "Teached dataset of 96444 objects\n",
      "Teached dataset of 115784 objects\n",
      "Teached dataset of 139001 objects\n",
      "Teached dataset of 166875 objects\n",
      "Teached dataset of 200337 objects\n"
     ]
    },
    {
     "data": {
      "application/vnd.jupyter.widget-view+json": {
       "model_id": "6debe364953944dd8924c77abcb11499",
       "version_major": 2,
       "version_minor": 0
      },
      "text/plain": [
       "HBox(children=(IntProgress(value=0, max=30), HTML(value='')))"
      ]
     },
     "metadata": {},
     "output_type": "display_data"
    },
    {
     "name": "stdout",
     "output_type": "stream",
     "text": [
      "Teached dataset of 1000 objects\n",
      "Teached dataset of 1200 objects\n",
      "Teached dataset of 1441 objects\n",
      "Teached dataset of 1730 objects\n",
      "Teached dataset of 2077 objects\n",
      "Teached dataset of 2493 objects\n",
      "Teached dataset of 2993 objects\n",
      "Teached dataset of 3594 objects\n",
      "Teached dataset of 4314 objects\n",
      "Teached dataset of 5180 objects\n",
      "Teached dataset of 6218 objects\n",
      "Teached dataset of 7465 objects\n",
      "Teached dataset of 8963 objects\n",
      "Teached dataset of 10760 objects\n",
      "Teached dataset of 12918 objects\n",
      "Teached dataset of 15508 objects\n",
      "Teached dataset of 18618 objects\n",
      "Teached dataset of 22351 objects\n",
      "Teached dataset of 26833 objects\n",
      "Teached dataset of 32214 objects\n",
      "Teached dataset of 38674 objects\n",
      "Teached dataset of 46429 objects\n",
      "Teached dataset of 55739 objects\n",
      "Teached dataset of 66916 objects\n",
      "Teached dataset of 80335 objects\n",
      "Teached dataset of 96444 objects\n",
      "Teached dataset of 115784 objects\n",
      "Teached dataset of 139001 objects\n",
      "Teached dataset of 166875 objects\n",
      "Teached dataset of 200337 objects\n"
     ]
    },
    {
     "data": {
      "application/vnd.jupyter.widget-view+json": {
       "model_id": "41f03bda57c94dacae167e75faddc8f7",
       "version_major": 2,
       "version_minor": 0
      },
      "text/plain": [
       "HBox(children=(IntProgress(value=0, max=30), HTML(value='')))"
      ]
     },
     "metadata": {},
     "output_type": "display_data"
    },
    {
     "name": "stdout",
     "output_type": "stream",
     "text": [
      "Teached dataset of 1000 objects\n",
      "Teached dataset of 1200 objects\n",
      "Teached dataset of 1441 objects\n",
      "Teached dataset of 1730 objects\n",
      "Teached dataset of 2077 objects\n",
      "Teached dataset of 2493 objects\n",
      "Teached dataset of 2993 objects\n",
      "Teached dataset of 3594 objects\n",
      "Teached dataset of 4314 objects\n",
      "Teached dataset of 5180 objects\n",
      "Teached dataset of 6218 objects\n",
      "Teached dataset of 7465 objects\n",
      "Teached dataset of 8963 objects\n",
      "Teached dataset of 10760 objects\n",
      "Teached dataset of 12918 objects\n",
      "Teached dataset of 15508 objects\n",
      "Teached dataset of 18618 objects\n",
      "Teached dataset of 22351 objects\n",
      "Teached dataset of 26833 objects\n",
      "Teached dataset of 32214 objects\n",
      "Teached dataset of 38674 objects\n",
      "Teached dataset of 46429 objects\n",
      "Teached dataset of 55739 objects\n",
      "Teached dataset of 66916 objects\n",
      "Teached dataset of 80335 objects\n",
      "Teached dataset of 96444 objects\n",
      "Teached dataset of 115784 objects\n",
      "Teached dataset of 139001 objects\n",
      "Teached dataset of 166875 objects\n",
      "Teached dataset of 200337 objects\n"
     ]
    },
    {
     "data": {
      "application/vnd.jupyter.widget-view+json": {
       "model_id": "3d0e2ca65d6541aba166393f394e363a",
       "version_major": 2,
       "version_minor": 0
      },
      "text/plain": [
       "HBox(children=(IntProgress(value=0, max=30), HTML(value='')))"
      ]
     },
     "metadata": {},
     "output_type": "display_data"
    },
    {
     "name": "stdout",
     "output_type": "stream",
     "text": [
      "Teached dataset of 1000 objects\n",
      "Teached dataset of 1200 objects\n",
      "Teached dataset of 1441 objects\n",
      "Teached dataset of 1730 objects\n",
      "Teached dataset of 2077 objects\n",
      "Teached dataset of 2493 objects\n",
      "Teached dataset of 2993 objects\n",
      "Teached dataset of 3594 objects\n",
      "Teached dataset of 4314 objects\n",
      "Teached dataset of 5180 objects\n",
      "Teached dataset of 6218 objects\n",
      "Teached dataset of 7465 objects\n",
      "Teached dataset of 8963 objects\n",
      "Teached dataset of 10760 objects\n",
      "Teached dataset of 12918 objects\n",
      "Teached dataset of 15508 objects\n",
      "Teached dataset of 18618 objects\n",
      "Teached dataset of 22351 objects\n",
      "Teached dataset of 26833 objects\n",
      "Teached dataset of 32214 objects\n",
      "Teached dataset of 38674 objects\n",
      "Teached dataset of 46429 objects\n",
      "Teached dataset of 55739 objects\n",
      "Teached dataset of 66916 objects\n",
      "Teached dataset of 80335 objects\n",
      "Teached dataset of 96444 objects\n",
      "Teached dataset of 115784 objects\n",
      "Teached dataset of 139001 objects\n",
      "Teached dataset of 166875 objects\n",
      "Teached dataset of 200337 objects\n",
      "\n"
     ]
    }
   ],
   "source": [
    "mod_samples = []\n",
    "exp_samples = []\n",
    "for i in tqdm_notebook(range(3)):\n",
    "    mod_samples.append(count_one_sample(data_test, data_train))\n",
    "    exp_samples.append(count_one_sample(data_exp, data_train))\n"
   ]
  },
  {
   "cell_type": "code",
   "execution_count": 13,
   "metadata": {},
   "outputs": [],
   "source": [
    "\n",
    "da = (mod_samples, exp_samples)\n",
    "with open('data3.pickle', 'wb') as f:\n",
    "    pickle.dump(da, f)"
   ]
  },
  {
   "cell_type": "code",
   "execution_count": 11,
   "metadata": {},
   "outputs": [],
   "source": [
    "with open('data3.pickle', 'rb') as f:\n",
    "    data_new = pickle.load(f)\n",
    "mod_samples, exp_samples = data_new"
   ]
  },
  {
   "cell_type": "code",
   "execution_count": 12,
   "metadata": {},
   "outputs": [],
   "source": [
    "mod_samples = np.array(mod_samples)\n",
    "exp_samples = np.array(exp_samples)"
   ]
  },
  {
   "cell_type": "markdown",
   "metadata": {},
   "source": [
    "Поиск коэффциента в ускорении (сравнения)"
   ]
  },
  {
   "cell_type": "code",
   "execution_count": 13,
   "metadata": {},
   "outputs": [],
   "source": [
    "#ball_times, brute_times, ball_comps, brute_comps\n",
    "#3 шт.\n",
    "mod_comps = np.log10(np.mean(mod_samples[:, 2], axis = 0)/1000)\n",
    "exp_comps =np.log10(np.mean(exp_samples[:, 2], axis = 0)/1000)\n",
    "brute_comps =np.log10(np.mean(exp_samples[:, 3], axis = 0)/1000)\n",
    "\n",
    "loged_ref_points = np.log10(ref_points)"
   ]
  },
  {
   "cell_type": "code",
   "execution_count": 14,
   "metadata": {},
   "outputs": [
    {
     "name": "stdout",
     "output_type": "stream",
     "text": [
      " \n",
      "0.4906 x + 1.356\n",
      " \n",
      "0.4941 x + 1.201\n"
     ]
    }
   ],
   "source": [
    "first_p = 10\n",
    "#это для эксперимента\n",
    "z1 = np.polyfit(loged_ref_points[first_p:],exp_comps[first_p:],1)\n",
    "p1 = np.poly1d(z1)\n",
    "print(p1)\n",
    "# Это для модели\n",
    "z2 = np.polyfit(loged_ref_points[first_p:],mod_comps[first_p:],1)\n",
    "p2 = np.poly1d(z2)\n",
    "print(p2)"
   ]
  },
  {
   "cell_type": "code",
   "execution_count": 16,
   "metadata": {},
   "outputs": [
    {
     "data": {
      "image/png": "[encoded data removed]",
      "text/plain": [
       "<Figure size 432x288 with 1 Axes>"
      ]
     },
     "metadata": {
      "needs_background": "light"
     },
     "output_type": "display_data"
    }
   ],
   "source": [
    "points_for_line = np.array([3,5.5])\n",
    "plt.scatter(10**loged_ref_points, 10**brute_comps, linewidths=0.1, c ='#0fff95')\n",
    "plt.scatter(10**loged_ref_points, 10**mod_comps, linewidths=0.1, c ='green')\n",
    "plt.scatter(10**loged_ref_points, 10**exp_comps, linewidths=0.1, c ='red')\n",
    "plt.plot(10**loged_ref_points, 10**brute_comps, c ='#0fff95', linewidth=0.8)\n",
    "plt.plot(10**points_for_line, 10**p2(points_for_line),c ='green', linewidth=0.8)\n",
    "plt.plot(10**points_for_line, 10**p1(points_for_line),c ='red', linewidth=0.8)\n",
    "plt.legend([\"x\",\"$k\\,x^{\" + str(p2[1])[:4] + \"}$\",\n",
    "            \"$k\\,x^{\" + str(p1[1])[:4]+ \"}$\",\n",
    "           \"полн. перебор\", \"теор. инд.\",\"эксп. инд.\"])\n",
    "#plt.axis([2.9,6,2.4,6])\n",
    "plt.xlabel(\"Размер базы данных\")\n",
    "plt.ylabel(\"Кол. сравнений\")\n",
    "\n",
    "plt.xscale(\"log\")\n",
    "plt.yscale(\"log\")\n",
    "\n",
    "plt.savefig(\"comps for dif size.svg\",format = 'svg')\n",
    "plt.show()"
   ]
  },
  {
   "cell_type": "markdown",
   "metadata": {},
   "source": [
    "Поиск коэффциента в ускорении (скорость)"
   ]
  },
  {
   "cell_type": "code",
   "execution_count": 17,
   "metadata": {},
   "outputs": [],
   "source": [
    "mod_times = np.log10(np.mean(exp_samples[:, 1], axis = 0)/np.mean(mod_samples[:, 0], axis = 0))\n",
    "exp_times =np.log10(np.mean(exp_samples[:, 1], axis = 0)/np.mean(exp_samples[:, 0], axis = 0))"
   ]
  },
  {
   "cell_type": "code",
   "execution_count": 18,
   "metadata": {},
   "outputs": [
    {
     "name": "stdout",
     "output_type": "stream",
     "text": [
      " \n",
      "0.5079 x - 1.622\n",
      " \n",
      "0.5035 x - 1.459\n"
     ]
    }
   ],
   "source": [
    "first_p = 15\n",
    "#это для эксперимента\n",
    "z1 = np.polyfit(loged_ref_points[first_p:],(exp_times)[first_p:],1)\n",
    "p1 = np.poly1d(z1)\n",
    "print(p1)\n",
    "# Это для модели\n",
    "z2 = np.polyfit(loged_ref_points[first_p:],(mod_times)[first_p:],1)\n",
    "p2 = np.poly1d(z2)\n",
    "print(p2)"
   ]
  },
  {
   "cell_type": "code",
   "execution_count": 19,
   "metadata": {},
   "outputs": [
    {
     "data": {
      "image/png": "[encoded data removed]",
      "text/plain": [
       "<Figure size 432x288 with 1 Axes>"
      ]
     },
     "metadata": {
      "needs_background": "light"
     },
     "output_type": "display_data"
    }
   ],
   "source": [
    "from matplotlib.ticker import ScalarFormatter\n",
    "\n",
    "ax = plt.figure().add_subplot(111)\n",
    "ax.ticklabel_format(scilimits = (0,0))\n",
    "\n",
    "points_for_line = np.array([3,5.5])\n",
    "plt.plot(10**points_for_line, 10**p2(points_for_line),c ='black')\n",
    "plt.plot(10**points_for_line, 10**p1(points_for_line),c ='gray')\n",
    "plt.scatter(10**loged_ref_points, 10**mod_times,marker = 'x', linewidths=0.1, c ='red')\n",
    "plt.scatter(10**loged_ref_points, 10**exp_times,marker = 'x', linewidths=0.1, c ='green')\n",
    "plt.legend([\"$k\\,x^{\" + str(p2[1])[:4] + \"}$\",\n",
    "            \"$k\\,x^{\" + str(p1[1])[:4] + \"}$\",\"теор. инд.\",\"эксп. инд.\"])\n",
    "#plt.axis([2.9,6,2.4,6])\n",
    "plt.xlabel(\"Размер базы данных\")\n",
    "plt.ylabel(\"Ускорение (отн. старого и нового алгоритмов)\")\n",
    "\n",
    "plt.xscale(\"log\")\n",
    "plt.yscale(\"log\",)\n",
    "ax.yaxis.set_major_formatter(ScalarFormatter())\n",
    "plt.yticks([1,3, 5,10])\n",
    "\n",
    "plt.savefig(\"time for dif size.svg\",format = 'svg')\n",
    "plt.show()"
   ]
  },
  {
   "cell_type": "markdown",
   "metadata": {
    "collapsed": true
   },
   "source": [
    "Ошибки в оценки ускорения"
   ]
  },
  {
   "cell_type": "markdown",
   "metadata": {
    "collapsed": true
   },
   "source": [
    "Коэффициент ускорения"
   ]
  },
  {
   "cell_type": "code",
   "execution_count": 20,
   "metadata": {},
   "outputs": [],
   "source": [
    "mod_times = []\n",
    "exp_times = []\n",
    "brute_times = []\n",
    "for i in range(len(mod_samples)):\n",
    "    mod_times.append(mod_samples[i][0])\n",
    "    exp_times.append(exp_samples[i][0])\n",
    "    \n",
    "    brute_times.append(exp_samples[i][1])\n",
    "    brute_times.append(mod_samples[i][1])\n",
    "\n",
    "exp_times = np.array(exp_times)\n",
    "mod_times = np.array(mod_times)\n",
    "brute_times = np.array(brute_times)"
   ]
  },
  {
   "cell_type": "code",
   "execution_count": 21,
   "metadata": {},
   "outputs": [],
   "source": [
    "brute_times_mean = np.mean(brute_times, axis =0)\n",
    "\n",
    "exp_times_std = np.std(exp_times, axis=0)\n",
    "mod_times_std = np.std(mod_times, axis=0)\n",
    "\n",
    "exp_times_mean = np.mean(exp_times, axis=0)\n",
    "mod_times_mean = np.mean(mod_times, axis=0)"
   ]
  },
  {
   "cell_type": "code",
   "execution_count": 22,
   "metadata": {},
   "outputs": [
    {
     "data": {
      "image/png": "[encoded data removed]",
      "text/plain": [
       "<Figure size 432x288 with 1 Axes>"
      ]
     },
     "metadata": {
      "needs_background": "light"
     },
     "output_type": "display_data"
    }
   ],
   "source": [
    "ax = plt.figure().add_subplot(111)\n",
    "plt.plot(ref_points,10**brute_comps/10**mod_comps, 'o-', c = 'red', linewidth = 0.5)\n",
    "plt.plot(ref_points,10**brute_comps/10**exp_comps, 'o-', c = 'green', linewidth = 0.5)\n",
    "\n",
    "plt.plot(ref_points,brute_times_mean/mod_times_mean, 'x--', c = 'red', linewidth = 0.5)\n",
    "plt.plot(ref_points,brute_times_mean/exp_times_mean, 'x--', c = 'green', linewidth = 0.5)\n",
    "\n",
    "\n",
    "plt.xlabel(\"Размер базы данных\")\n",
    "plt.ylabel(\"Ускорение (во сколько раз)\")\n",
    "\n",
    "plt.xscale(\"log\")\n",
    "plt.yscale(\"log\")\n",
    "\n",
    "plt.legend([[\"теор.\",\"сравнения\"],[\"эксп.\", \"сравнения\"],[\"теор.\", \"время\"],[\"эксп.\", \"время\"]])\n",
    "plt.yticks([1, 2, 5, 10, 20])\n",
    "ax.yaxis.set_major_formatter(ScalarFormatter())\n",
    "\n",
    "plt.savefig(\"comparation.svg\",format = 'svg')\n",
    "plt.show()"
   ]
  },
  {
   "cell_type": "markdown",
   "metadata": {},
   "source": [
    "Оценка времен в разных реализациях"
   ]
  },
  {
   "cell_type": "code",
   "execution_count": 23,
   "metadata": {},
   "outputs": [],
   "source": [
    "data_realtimes = pd.read_excel(\"tests_with_Labview_2.xlsx\")\n",
    "\n",
    "xticks = data_realtimes.iloc[7,1:7].astype(int).values\n",
    "speedup_nostat = np.array([np.array(s.split(',')) for s in data_realtimes.iloc[5,1:7]], dtype=np.float)\n",
    "speedup_nostat_mean = np.mean(speedup_nostat,axis = 1)*10\n",
    "\n",
    "speedup_withstat = np.array([np.array(s.split(',')) for s in data_realtimes.iloc[3,1:7]], dtype=np.float)\n",
    "speedup_withstat_mean = np.mean(speedup_withstat,axis = 1)*10"
   ]
  },
  {
   "cell_type": "code",
   "execution_count": 25,
   "metadata": {},
   "outputs": [
    {
     "data": {
      "image/png": "[encoded data removed]",
      "text/plain": [
       "<Figure size 432x288 with 1 Axes>"
      ]
     },
     "metadata": {
      "needs_background": "light"
     },
     "output_type": "display_data"
    }
   ],
   "source": [
    "ax = plt.figure().add_subplot(111)\n",
    "\n",
    "each = 4\n",
    "mc = 10**-3\n",
    "Oper_time = 61*15/(1.8*10**9)/mc\n",
    "\n",
    "plt.plot(10**loged_ref_points[::each], 10**exp_comps[::each]*Oper_time, '*-', c ='red', markersize = 10)\n",
    "plt.plot(10**loged_ref_points[::each], exp_times_mean[::each], 'x-',  c ='green')\n",
    "plt.plot(xticks/1.1, speedup_nostat_mean, 'o-', c ='blue')\n",
    "plt.plot(xticks/1.1, speedup_withstat_mean, 'o--', c ='blue')\n",
    "\n",
    "plt.title('Сравнение времен работы реализаций')\n",
    "plt.legend([\"Теория (по сравнениям) через флопсы\", \"Предварительное в Python\",\n",
    "            \"Реальное в LabVIEW + DLL без стат. оц.\", \"Реальное в LabVIEW + DLL со стат. оц.\",])\n",
    "plt.xlabel(\"Размер базы данных\")\n",
    "plt.ylabel(\"Время на обработку, мс\")\n",
    "\n",
    "ax.set_xlim(left = 10**loged_ref_points[::each][2])\n",
    "plt.xscale(\"log\")\n",
    "plt.yscale(\"log\")\n",
    "plt.yticks([0.5, 1,3, 5, 10])\n",
    "plt.xticks([10**4, 3*10**4, 10**5])\n",
    "ax.yaxis.set_major_formatter(ScalarFormatter())\n",
    "\n",
    "plt.savefig(\"times comparation.svg\",format = 'svg')\n",
    "plt.show()"
   ]
  },
  {
   "cell_type": "code",
   "execution_count": null,
   "metadata": {},
   "outputs": [],
   "source": []
  }
 ],
 "metadata": {
  "kernelspec": {
   "display_name": "Python 3",
   "language": "python",
   "name": "python3"
  },
  "language_info": {
   "codemirror_mode": {
    "name": "ipython",
    "version": 3
   },
   "file_extension": ".py",
   "mimetype": "text/x-python",
   "name": "python",
   "nbconvert_exporter": "python",
   "pygments_lexer": "ipython3",
   "version": "3.5.5"
  }
 },
 "nbformat": 4,
 "nbformat_minor": 2
}

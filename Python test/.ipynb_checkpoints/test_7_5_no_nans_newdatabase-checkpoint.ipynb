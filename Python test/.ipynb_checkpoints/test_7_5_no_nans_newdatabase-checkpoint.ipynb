{
 "cells": [
  {
   "cell_type": "code",
   "execution_count": 1,
   "metadata": {
    "collapsed": true
   },
   "outputs": [],
   "source": [
    "from sklearn.neighbors import BallTree\n",
    "import numpy as np\n",
    "import matplotlib.pyplot as plt\n",
    "import pandas as pd\n",
    "import time\n",
    "import random\n",
    "from tqdm import tqdm_notebook\n",
    "\n",
    "#tetta = np.array(range(10,71))\n",
    "#w = np.exp(-2*np.log(tetta/54)**2)/tetta\n",
    "\n",
    "data = pd.read_csv(\"new_db\",delimiter =\"\\t\",header=-1)#ненормированны\n",
    "#data.iloc[:,4:] = data.values[:,4:]*w\n",
    "\n",
    "data_test = pd.read_csv(\"borovkova/database_txt/test_1000.txt\",delimiter =\"\\t\",header=-1)#нормированны\n",
    "\n",
    "data_exp = pd.read_csv(\"borovkova/database_txt/experiment_1000.txt\",delimiter =\"\\t\",header=-1)#нормированны"
   ]
  },
  {
   "cell_type": "code",
   "execution_count": 11,
   "metadata": {},
   "outputs": [
    {
     "data": {
      "image/png": "[encoded data removed]",
      "text/plain": [
       "<matplotlib.figure.Figure at 0x2cf40be3ef0>"
      ]
     },
     "metadata": {},
     "output_type": "display_data"
    }
   ],
   "source": [
    "start = 0\n",
    "end = 6001000\n",
    "plt.scatter(range(len(data.iloc[:,0]))[start:end],data.iloc[:,1][start:end],s = 1)\n",
    "plt.show()"
   ]
  },
  {
   "cell_type": "code",
   "execution_count": 10,
   "metadata": {},
   "outputs": [
    {
     "data": {
      "text/plain": [
       "28"
      ]
     },
     "execution_count": 10,
     "metadata": {},
     "output_type": "execute_result"
    }
   ],
   "source": [
    "len(data[data.iloc[:,1] < 0.1])"
   ]
  },
  {
   "cell_type": "code",
   "execution_count": 12,
   "metadata": {
    "collapsed": true
   },
   "outputs": [],
   "source": [
    "data_nonan = data.iloc[np.where(data.iloc[:,0] > 0.1)[0]].astype(\"float32\")"
   ]
  },
  {
   "cell_type": "code",
   "execution_count": 13,
   "metadata": {
    "collapsed": true
   },
   "outputs": [],
   "source": [
    "data_nonan.to_csv(\"new_db_no_zeros.txt\",sep =\"\\t\",header=None, index = None)#ненормированны"
   ]
  },
  {
   "cell_type": "code",
   "execution_count": 14,
   "metadata": {},
   "outputs": [
    {
     "data": {
      "text/plain": [
       "199849"
      ]
     },
     "execution_count": 14,
     "metadata": {},
     "output_type": "execute_result"
    }
   ],
   "source": [
    "len(data[data.iloc[:,0] > 0.1])"
   ]
  }
 ],
 "metadata": {
  "kernelspec": {
   "display_name": "Python 3",
   "language": "python",
   "name": "python3"
  },
  "language_info": {
   "codemirror_mode": {
    "name": "ipython",
    "version": 3
   },
   "file_extension": ".py",
   "mimetype": "text/x-python",
   "name": "python",
   "nbconvert_exporter": "python",
   "pygments_lexer": "ipython3",
   "version": "3.6.1"
  }
 },
 "nbformat": 4,
 "nbformat_minor": 2
}

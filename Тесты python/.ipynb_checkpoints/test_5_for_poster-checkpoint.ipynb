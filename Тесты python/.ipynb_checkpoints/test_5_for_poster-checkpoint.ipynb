{
 "cells": [
  {
   "cell_type": "code",
   "execution_count": 1,
   "metadata": {
    "collapsed": true
   },
   "outputs": [],
   "source": [
    "from sklearn.neighbors import BallTree\n",
    "import numpy as np\n",
    "import matplotlib.pyplot as plt\n",
    "import pandas as pd\n",
    "import time\n",
    "import random\n",
    "from tqdm import tqdm_notebook\n",
    "import pickle\n",
    "\n",
    "tetta = np.array(range(10,71))\n",
    "w = np.exp(-2*np.log(tetta/54)**2)/tetta\n",
    "\n",
    "data = pd.read_csv(\"borovkova/database_txt/database.txt\",delimiter =\"\\t\",header=-1)#ненормированны\n",
    "data.iloc[:,4:] = data.values[:,4:]*w\n",
    "\n",
    "data_test = pd.read_csv(\"borovkova/database_txt/test_1000.txt\",delimiter =\"\\t\",header=-1)#нормированны\n",
    "\n",
    "data_exp = pd.read_csv(\"borovkova/database_txt/experiment_1000.txt\",delimiter =\"\\t\",header=-1)#нормированны"
   ]
  },
  {
   "cell_type": "code",
   "execution_count": 62,
   "metadata": {},
   "outputs": [],
   "source": [
    "ref_points = np.logspace(3,5.7,30).astype('int64')"
   ]
  },
  {
   "cell_type": "code",
   "execution_count": 4,
   "metadata": {
    "collapsed": true
   },
   "outputs": [],
   "source": [
    "def calc_time_for_samples(brute_tree, ball_tree, test_data, deep = 1):\n",
    "    start_time = time.clock()\n",
    "    dist1, ind1 = brute_tree.query(test_data, k=deep)\n",
    "    brute_tree_summary_time = time.clock() - start_time\n",
    "    \n",
    "    start_time = time.clock()\n",
    "    dist2, ind2 = ball_tree.query(test_data, k=deep)\n",
    "    ball_tree_summary_time = time.clock() - start_time\n",
    "    \n",
    "    assert np.array_equal(ind1,ind2)\n",
    "    return brute_tree_summary_time, ball_tree_summary_time"
   ]
  },
  {
   "cell_type": "code",
   "execution_count": 5,
   "metadata": {
    "collapsed": true
   },
   "outputs": [],
   "source": [
    "\n",
    "def count_one_sample(data_points):\n",
    "    ball_times = []\n",
    "    brute_times = []\n",
    "\n",
    "    ball_comps = []\n",
    "    brute_comps = []\n",
    "\n",
    "    for len_of_data in tqdm_notebook(ref_points):\n",
    "        ball_tree = BallTree(data.iloc[:len_of_data,4:], leaf_size=1) \n",
    "        brute_tree = BallTree(data.iloc[:len_of_data,4:], leaf_size=data.shape[0])\n",
    "        print (\"Teached dataset of \" + str(len_of_data) + \" objects\")\n",
    "        brute_tree.reset_n_calls()\n",
    "        ball_tree.reset_n_calls()\n",
    "        brute_time, ball_time = calc_time_for_samples(brute_tree, ball_tree, data_points)\n",
    "        ball_times.append(ball_time)\n",
    "        brute_times.append(brute_time)\n",
    "        ball_comps.append(ball_tree.get_n_calls())\n",
    "        brute_comps.append(brute_tree.get_n_calls())\n",
    "        #print (ball_tree.get_n_calls())\n",
    "        #print (brute_tree.get_n_calls())\n",
    "        \n",
    "    return ball_times, brute_times, ball_comps, brute_comps"
   ]
  },
  {
   "cell_type": "code",
   "execution_count": 6,
   "metadata": {},
   "outputs": [
    {
     "data": {
      "application/vnd.jupyter.widget-view+json": {
       "model_id": "2fb4d2ecd2cf4bf59e992f874cde835c"
      }
     },
     "metadata": {},
     "output_type": "display_data"
    },
    {
     "data": {
      "application/vnd.jupyter.widget-view+json": {
       "model_id": "22320d2b558e4f88a43f40080e6a3961"
      }
     },
     "metadata": {},
     "output_type": "display_data"
    },
    {
     "name": "stdout",
     "output_type": "stream",
     "text": [
      "Teached dataset of 1000 objects\n",
      "Teached dataset of 1239 objects\n",
      "Teached dataset of 1535 objects\n",
      "Teached dataset of 1902 objects\n",
      "Teached dataset of 2357 objects\n",
      "Teached dataset of 2920 objects\n",
      "Teached dataset of 3619 objects\n",
      "Teached dataset of 4484 objects\n",
      "Teached dataset of 5556 objects\n",
      "Teached dataset of 6885 objects\n",
      "Teached dataset of 8531 objects\n",
      "Teached dataset of 10571 objects\n",
      "Teached dataset of 13099 objects\n",
      "Teached dataset of 16230 objects\n",
      "Teached dataset of 20111 objects\n",
      "Teached dataset of 24920 objects\n",
      "Teached dataset of 30878 objects\n",
      "Teached dataset of 38261 objects\n",
      "Teached dataset of 47409 objects\n",
      "Teached dataset of 58744 objects\n",
      "Teached dataset of 72789 objects\n",
      "Teached dataset of 90192 objects\n",
      "Teached dataset of 111757 objects\n",
      "Teached dataset of 138477 objects\n",
      "Teached dataset of 171586 objects\n",
      "Teached dataset of 212611 objects\n",
      "Teached dataset of 263444 objects\n",
      "Teached dataset of 326432 objects\n",
      "Teached dataset of 404479 objects\n",
      "Teached dataset of 501187 objects\n"
     ]
    },
    {
     "data": {
      "application/vnd.jupyter.widget-view+json": {
       "model_id": "b2398833d1cc40adb72dc9a7cab97cc2"
      }
     },
     "metadata": {},
     "output_type": "display_data"
    },
    {
     "name": "stdout",
     "output_type": "stream",
     "text": [
      "Teached dataset of 1000 objects\n",
      "Teached dataset of 1239 objects\n",
      "Teached dataset of 1535 objects\n",
      "Teached dataset of 1902 objects\n",
      "Teached dataset of 2357 objects\n",
      "Teached dataset of 2920 objects\n",
      "Teached dataset of 3619 objects\n",
      "Teached dataset of 4484 objects\n",
      "Teached dataset of 5556 objects\n",
      "Teached dataset of 6885 objects\n",
      "Teached dataset of 8531 objects\n",
      "Teached dataset of 10571 objects\n",
      "Teached dataset of 13099 objects\n",
      "Teached dataset of 16230 objects\n",
      "Teached dataset of 20111 objects\n",
      "Teached dataset of 24920 objects\n",
      "Teached dataset of 30878 objects\n",
      "Teached dataset of 38261 objects\n",
      "Teached dataset of 47409 objects\n",
      "Teached dataset of 58744 objects\n",
      "Teached dataset of 72789 objects\n",
      "Teached dataset of 90192 objects\n",
      "Teached dataset of 111757 objects\n",
      "Teached dataset of 138477 objects\n",
      "Teached dataset of 171586 objects\n",
      "Teached dataset of 212611 objects\n",
      "Teached dataset of 263444 objects\n",
      "Teached dataset of 326432 objects\n",
      "Teached dataset of 404479 objects\n",
      "Teached dataset of 501187 objects\n"
     ]
    },
    {
     "data": {
      "application/vnd.jupyter.widget-view+json": {
       "model_id": "2634c11656a2496ea87567de40bfb3df"
      }
     },
     "metadata": {},
     "output_type": "display_data"
    },
    {
     "name": "stdout",
     "output_type": "stream",
     "text": [
      "Teached dataset of 1000 objects\n",
      "Teached dataset of 1239 objects\n",
      "Teached dataset of 1535 objects\n",
      "Teached dataset of 1902 objects\n",
      "Teached dataset of 2357 objects\n",
      "Teached dataset of 2920 objects\n",
      "Teached dataset of 3619 objects\n",
      "Teached dataset of 4484 objects\n",
      "Teached dataset of 5556 objects\n",
      "Teached dataset of 6885 objects\n",
      "Teached dataset of 8531 objects\n",
      "Teached dataset of 10571 objects\n",
      "Teached dataset of 13099 objects\n",
      "Teached dataset of 16230 objects\n",
      "Teached dataset of 20111 objects\n",
      "Teached dataset of 24920 objects\n",
      "Teached dataset of 30878 objects\n",
      "Teached dataset of 38261 objects\n",
      "Teached dataset of 47409 objects\n",
      "Teached dataset of 58744 objects\n",
      "Teached dataset of 72789 objects\n",
      "Teached dataset of 90192 objects\n",
      "Teached dataset of 111757 objects\n",
      "Teached dataset of 138477 objects\n",
      "Teached dataset of 171586 objects\n",
      "Teached dataset of 212611 objects\n",
      "Teached dataset of 263444 objects\n",
      "Teached dataset of 326432 objects\n",
      "Teached dataset of 404479 objects\n",
      "Teached dataset of 501187 objects\n"
     ]
    },
    {
     "data": {
      "application/vnd.jupyter.widget-view+json": {
       "model_id": "c28c16bc7c2d40a58565fc7e28fedbc9"
      }
     },
     "metadata": {},
     "output_type": "display_data"
    },
    {
     "name": "stdout",
     "output_type": "stream",
     "text": [
      "Teached dataset of 1000 objects\n",
      "Teached dataset of 1239 objects\n",
      "Teached dataset of 1535 objects\n",
      "Teached dataset of 1902 objects\n",
      "Teached dataset of 2357 objects\n",
      "Teached dataset of 2920 objects\n",
      "Teached dataset of 3619 objects\n",
      "Teached dataset of 4484 objects\n",
      "Teached dataset of 5556 objects\n",
      "Teached dataset of 6885 objects\n",
      "Teached dataset of 8531 objects\n",
      "Teached dataset of 10571 objects\n",
      "Teached dataset of 13099 objects\n",
      "Teached dataset of 16230 objects\n",
      "Teached dataset of 20111 objects\n",
      "Teached dataset of 24920 objects\n",
      "Teached dataset of 30878 objects\n",
      "Teached dataset of 38261 objects\n",
      "Teached dataset of 47409 objects\n",
      "Teached dataset of 58744 objects\n",
      "Teached dataset of 72789 objects\n",
      "Teached dataset of 90192 objects\n",
      "Teached dataset of 111757 objects\n",
      "Teached dataset of 138477 objects\n",
      "Teached dataset of 171586 objects\n",
      "Teached dataset of 212611 objects\n",
      "Teached dataset of 263444 objects\n",
      "Teached dataset of 326432 objects\n",
      "Teached dataset of 404479 objects\n",
      "Teached dataset of 501187 objects\n"
     ]
    },
    {
     "data": {
      "application/vnd.jupyter.widget-view+json": {
       "model_id": "79b5db982cb042d2b0af943ce6fa573d"
      }
     },
     "metadata": {},
     "output_type": "display_data"
    },
    {
     "name": "stdout",
     "output_type": "stream",
     "text": [
      "Teached dataset of 1000 objects\n",
      "Teached dataset of 1239 objects\n",
      "Teached dataset of 1535 objects\n",
      "Teached dataset of 1902 objects\n",
      "Teached dataset of 2357 objects\n",
      "Teached dataset of 2920 objects\n",
      "Teached dataset of 3619 objects\n",
      "Teached dataset of 4484 objects\n",
      "Teached dataset of 5556 objects\n",
      "Teached dataset of 6885 objects\n",
      "Teached dataset of 8531 objects\n",
      "Teached dataset of 10571 objects\n",
      "Teached dataset of 13099 objects\n",
      "Teached dataset of 16230 objects\n",
      "Teached dataset of 20111 objects\n",
      "Teached dataset of 24920 objects\n",
      "Teached dataset of 30878 objects\n",
      "Teached dataset of 38261 objects\n",
      "Teached dataset of 47409 objects\n",
      "Teached dataset of 58744 objects\n",
      "Teached dataset of 72789 objects\n",
      "Teached dataset of 90192 objects\n",
      "Teached dataset of 111757 objects\n",
      "Teached dataset of 138477 objects\n",
      "Teached dataset of 171586 objects\n",
      "Teached dataset of 212611 objects\n",
      "Teached dataset of 263444 objects\n",
      "Teached dataset of 326432 objects\n",
      "Teached dataset of 404479 objects\n",
      "Teached dataset of 501187 objects\n"
     ]
    },
    {
     "data": {
      "application/vnd.jupyter.widget-view+json": {
       "model_id": "7b9b7cbb36454b4f8456cf69f6367f5a"
      }
     },
     "metadata": {},
     "output_type": "display_data"
    },
    {
     "name": "stdout",
     "output_type": "stream",
     "text": [
      "Teached dataset of 1000 objects\n",
      "Teached dataset of 1239 objects\n",
      "Teached dataset of 1535 objects\n",
      "Teached dataset of 1902 objects\n",
      "Teached dataset of 2357 objects\n",
      "Teached dataset of 2920 objects\n",
      "Teached dataset of 3619 objects\n",
      "Teached dataset of 4484 objects\n",
      "Teached dataset of 5556 objects\n",
      "Teached dataset of 6885 objects\n",
      "Teached dataset of 8531 objects\n",
      "Teached dataset of 10571 objects\n",
      "Teached dataset of 13099 objects\n",
      "Teached dataset of 16230 objects\n",
      "Teached dataset of 20111 objects\n",
      "Teached dataset of 24920 objects\n",
      "Teached dataset of 30878 objects\n",
      "Teached dataset of 38261 objects\n",
      "Teached dataset of 47409 objects\n",
      "Teached dataset of 58744 objects\n",
      "Teached dataset of 72789 objects\n",
      "Teached dataset of 90192 objects\n",
      "Teached dataset of 111757 objects\n",
      "Teached dataset of 138477 objects\n",
      "Teached dataset of 171586 objects\n",
      "Teached dataset of 212611 objects\n",
      "Teached dataset of 263444 objects\n",
      "Teached dataset of 326432 objects\n",
      "Teached dataset of 404479 objects\n",
      "Teached dataset of 501187 objects\n"
     ]
    },
    {
     "data": {
      "application/vnd.jupyter.widget-view+json": {
       "model_id": "76a687f9698b4ca7bd51d58e8ef1fdec"
      }
     },
     "metadata": {},
     "output_type": "display_data"
    },
    {
     "name": "stdout",
     "output_type": "stream",
     "text": [
      "Teached dataset of 1000 objects\n",
      "Teached dataset of 1239 objects\n",
      "Teached dataset of 1535 objects\n",
      "Teached dataset of 1902 objects\n",
      "Teached dataset of 2357 objects\n",
      "Teached dataset of 2920 objects\n",
      "Teached dataset of 3619 objects\n",
      "Teached dataset of 4484 objects\n",
      "Teached dataset of 5556 objects\n",
      "Teached dataset of 6885 objects\n",
      "Teached dataset of 8531 objects\n",
      "Teached dataset of 10571 objects\n",
      "Teached dataset of 13099 objects\n",
      "Teached dataset of 16230 objects\n",
      "Teached dataset of 20111 objects\n",
      "Teached dataset of 24920 objects\n",
      "Teached dataset of 30878 objects\n",
      "Teached dataset of 38261 objects\n",
      "Teached dataset of 47409 objects\n",
      "Teached dataset of 58744 objects\n",
      "Teached dataset of 72789 objects\n",
      "Teached dataset of 90192 objects\n",
      "Teached dataset of 111757 objects\n",
      "Teached dataset of 138477 objects\n",
      "Teached dataset of 171586 objects\n",
      "Teached dataset of 212611 objects\n",
      "Teached dataset of 263444 objects\n",
      "Teached dataset of 326432 objects\n",
      "Teached dataset of 404479 objects\n",
      "Teached dataset of 501187 objects\n"
     ]
    },
    {
     "data": {
      "application/vnd.jupyter.widget-view+json": {
       "model_id": "944d900151194456b5a1e05636fd3065"
      }
     },
     "metadata": {},
     "output_type": "display_data"
    },
    {
     "name": "stdout",
     "output_type": "stream",
     "text": [
      "Teached dataset of 1000 objects\n",
      "Teached dataset of 1239 objects\n",
      "Teached dataset of 1535 objects\n",
      "Teached dataset of 1902 objects\n",
      "Teached dataset of 2357 objects\n",
      "Teached dataset of 2920 objects\n",
      "Teached dataset of 3619 objects\n",
      "Teached dataset of 4484 objects\n",
      "Teached dataset of 5556 objects\n",
      "Teached dataset of 6885 objects\n",
      "Teached dataset of 8531 objects\n",
      "Teached dataset of 10571 objects\n",
      "Teached dataset of 13099 objects\n",
      "Teached dataset of 16230 objects\n",
      "Teached dataset of 20111 objects\n",
      "Teached dataset of 24920 objects\n",
      "Teached dataset of 30878 objects\n",
      "Teached dataset of 38261 objects\n",
      "Teached dataset of 47409 objects\n",
      "Teached dataset of 58744 objects\n",
      "Teached dataset of 72789 objects\n",
      "Teached dataset of 90192 objects\n",
      "Teached dataset of 111757 objects\n",
      "Teached dataset of 138477 objects\n",
      "Teached dataset of 171586 objects\n",
      "Teached dataset of 212611 objects\n",
      "Teached dataset of 263444 objects\n",
      "Teached dataset of 326432 objects\n",
      "Teached dataset of 404479 objects\n",
      "Teached dataset of 501187 objects\n"
     ]
    },
    {
     "data": {
      "application/vnd.jupyter.widget-view+json": {
       "model_id": "4325d17e5d4e4ec7859b47e85bb4d4dd"
      }
     },
     "metadata": {},
     "output_type": "display_data"
    },
    {
     "name": "stdout",
     "output_type": "stream",
     "text": [
      "Teached dataset of 1000 objects\n",
      "Teached dataset of 1239 objects\n",
      "Teached dataset of 1535 objects\n",
      "Teached dataset of 1902 objects\n",
      "Teached dataset of 2357 objects\n",
      "Teached dataset of 2920 objects\n",
      "Teached dataset of 3619 objects\n",
      "Teached dataset of 4484 objects\n",
      "Teached dataset of 5556 objects\n",
      "Teached dataset of 6885 objects\n",
      "Teached dataset of 8531 objects\n",
      "Teached dataset of 10571 objects\n",
      "Teached dataset of 13099 objects\n",
      "Teached dataset of 16230 objects\n",
      "Teached dataset of 20111 objects\n",
      "Teached dataset of 24920 objects\n",
      "Teached dataset of 30878 objects\n",
      "Teached dataset of 38261 objects\n",
      "Teached dataset of 47409 objects\n",
      "Teached dataset of 58744 objects\n",
      "Teached dataset of 72789 objects\n",
      "Teached dataset of 90192 objects\n",
      "Teached dataset of 111757 objects\n",
      "Teached dataset of 138477 objects\n",
      "Teached dataset of 171586 objects\n",
      "Teached dataset of 212611 objects\n",
      "Teached dataset of 263444 objects\n",
      "Teached dataset of 326432 objects\n",
      "Teached dataset of 404479 objects\n",
      "Teached dataset of 501187 objects\n"
     ]
    },
    {
     "data": {
      "application/vnd.jupyter.widget-view+json": {
       "model_id": "972098721d214407b6df18761aebc83c"
      }
     },
     "metadata": {},
     "output_type": "display_data"
    },
    {
     "name": "stdout",
     "output_type": "stream",
     "text": [
      "Teached dataset of 1000 objects\n",
      "Teached dataset of 1239 objects\n",
      "Teached dataset of 1535 objects\n",
      "Teached dataset of 1902 objects\n",
      "Teached dataset of 2357 objects\n",
      "Teached dataset of 2920 objects\n",
      "Teached dataset of 3619 objects\n",
      "Teached dataset of 4484 objects\n",
      "Teached dataset of 5556 objects\n",
      "Teached dataset of 6885 objects\n",
      "Teached dataset of 8531 objects\n",
      "Teached dataset of 10571 objects\n",
      "Teached dataset of 13099 objects\n",
      "Teached dataset of 16230 objects\n",
      "Teached dataset of 20111 objects\n",
      "Teached dataset of 24920 objects\n",
      "Teached dataset of 30878 objects\n",
      "Teached dataset of 38261 objects\n",
      "Teached dataset of 47409 objects\n",
      "Teached dataset of 58744 objects\n",
      "Teached dataset of 72789 objects\n",
      "Teached dataset of 90192 objects\n",
      "Teached dataset of 111757 objects\n",
      "Teached dataset of 138477 objects\n",
      "Teached dataset of 171586 objects\n",
      "Teached dataset of 212611 objects\n",
      "Teached dataset of 263444 objects\n",
      "Teached dataset of 326432 objects\n",
      "Teached dataset of 404479 objects\n",
      "Teached dataset of 501187 objects\n",
      "\n"
     ]
    }
   ],
   "source": [
    "mod_samples = []\n",
    "exp_samples = []\n",
    "for i in tqdm_notebook(range(5)):\n",
    "    mod_samples.append(count_one_sample(data_test.iloc[:,4:]))\n",
    "    exp_samples.append(count_one_sample(data_exp))\n"
   ]
  },
  {
   "cell_type": "code",
   "execution_count": 7,
   "metadata": {
    "collapsed": true
   },
   "outputs": [],
   "source": [
    "\n",
    "da = (mod_samples, exp_samples)\n",
    "with open('data.pickle', 'wb') as f:\n",
    "    pickle.dump(da, f)"
   ]
  },
  {
   "cell_type": "code",
   "execution_count": 2,
   "metadata": {
    "collapsed": true
   },
   "outputs": [],
   "source": [
    "with open('data.pickle', 'rb') as f:\n",
    "    data_new = pickle.load(f)\n",
    "mod_samples, exp_samples = data_new"
   ]
  },
  {
   "cell_type": "code",
   "execution_count": 5,
   "metadata": {},
   "outputs": [],
   "source": [
    "#ball_times, brute_times, ball_comps, brute_comps\n",
    "#5 шт.\n",
    "mod_comps = np.log10(np.array(mod_samples[0][2])/1000)\n",
    "exp_comps =np.log10( np.array(exp_samples[0][2])/1000)\n",
    "brute_comps =np.log10( np.array(exp_samples[0][3])/1000)\n",
    "\n",
    "loged_ref_points = np.log10(ref_points)"
   ]
  },
  {
   "cell_type": "code",
   "execution_count": 6,
   "metadata": {},
   "outputs": [
    {
     "name": "stdout",
     "output_type": "stream",
     "text": [
      " \n",
      "0.5349 x + 1.271\n",
      " \n",
      "0.4819 x + 1.264\n"
     ]
    }
   ],
   "source": [
    "first_p = 10\n",
    "#это для эксперимента\n",
    "z1 = np.polyfit(loged_ref_points[first_p:],exp_comps[first_p:],1)\n",
    "p1 = np.poly1d(z1)\n",
    "print(p1)\n",
    "# Это для модели\n",
    "z2 = np.polyfit(loged_ref_points[first_p:],mod_comps[first_p:],1)\n",
    "p2 = np.poly1d(z2)\n",
    "print(p2)"
   ]
  },
  {
   "cell_type": "code",
   "execution_count": 39,
   "metadata": {},
   "outputs": [
    {
     "data": {
      "image/png": "[encoded data removed]",
      "text/plain": [
       "<matplotlib.figure.Figure at 0x1da72915400>"
      ]
     },
     "metadata": {},
     "output_type": "display_data"
    }
   ],
   "source": [
    "points_for_line = [2,6]\n",
    "plt.plot(points_for_line, p2(points_for_line),c ='black')\n",
    "plt.plot(points_for_line, p1(points_for_line),c ='gray')\n",
    "plt.plot(loged_ref_points, np.array(brute_comps),c ='yellow')\n",
    "plt.scatter(loged_ref_points, np.array(mod_comps),linewidths=0.1,c ='red')\n",
    "plt.scatter(loged_ref_points, np.array(exp_comps),linewidths=0.1,c ='green')\n",
    "plt.scatter(loged_ref_points, np.array(brute_comps),linewidths=0.1,c ='blue')\n",
    "plt.legend([\"k*x^0.4819\",\"k*x^0.5349\",\"x\",\"simulated\",\"experiment\",\"brute force\"])\n",
    "#plt.yscale('log')\n",
    "#plt.xscale('log')\n",
    "plt.axis([2.9,6,2.4,6])\n",
    "plt.xlabel(\"Size of database, log10\")\n",
    "plt.ylabel(\"Num of comparations, log10\")\n",
    "#plt.title(\"Number of distance evaluations\")\n",
    "\n",
    "#plt.savefig(\"comps for dif test.pdf\",format = 'pf')\n",
    "plt.show()"
   ]
  },
  {
   "cell_type": "code",
   "execution_count": null,
   "metadata": {
    "collapsed": true
   },
   "outputs": [],
   "source": []
  },
  {
   "cell_type": "code",
   "execution_count": 17,
   "metadata": {
    "collapsed": true
   },
   "outputs": [],
   "source": [
    "mod_times = []\n",
    "exp_times = []\n",
    "brute_times = []\n",
    "for i in range(len(mod_samples)):\n",
    "    mod_times.append(mod_samples[i][0])\n",
    "    exp_times.append(exp_samples[i][0])\n",
    "    \n",
    "    brute_times.append(exp_samples[i][1])\n",
    "    brute_times.append(mod_samples[i][1])\n",
    "\n",
    "exp_times = np.array(exp_times)\n",
    "mod_times = np.array(mod_times)\n",
    "brute_times = np.array(brute_times)"
   ]
  },
  {
   "cell_type": "code",
   "execution_count": 10,
   "metadata": {
    "collapsed": true
   },
   "outputs": [],
   "source": [
    "brute_times_mean = np.mean(brute_times, axis =0)\n",
    "\n",
    "exp_times_std = np.std(exp_times, axis =0)\n",
    "mod_times_std = np.std(mod_times, axis =0)\n",
    "\n",
    "exp_times_mean = np.mean(exp_times, axis =0)\n",
    "mod_times_mean = np.mean(mod_times, axis =0)"
   ]
  },
  {
   "cell_type": "code",
   "execution_count": null,
   "metadata": {
    "collapsed": true
   },
   "outputs": [],
   "source": []
  },
  {
   "cell_type": "code",
   "execution_count": 42,
   "metadata": {},
   "outputs": [
    {
     "data": {
      "image/png": "[encoded data removed]",
      "text/plain": [
       "<matplotlib.figure.Figure at 0x1da1147d9b0>"
      ]
     },
     "metadata": {},
     "output_type": "display_data"
    }
   ],
   "source": [
    "plt.plot(ref_points, exp_times_mean,c=\"black\")\n",
    "plt.fill_between(ref_points,exp_times_mean - exp_times_std,\n",
    "                 exp_times_mean + exp_times_std, facecolor='yellow')\n",
    "plt.plot(ref_points, mod_times_mean,c=\"red\")\n",
    "plt.fill_between(ref_points,mod_times_mean - mod_times_std,\n",
    "                mod_times_mean + mod_times_std, facecolor='gray')\n",
    "plt.legend([\"experiment\",\"simulated\",\"exp coincidence\",\"simulated coincidence\"])\n",
    "#plt.yscale('log')\n",
    "#plt.xscale('log')\n",
    "plt.xlabel(\"Size of database\")\n",
    "plt.ylabel(\"Time, ms\")\n",
    "#plt.title(\"Speed boost\")\n",
    "#plt.axis([0,5e5 + 100,0,0.014])\n",
    "\n",
    "plt.show()"
   ]
  },
  {
   "cell_type": "code",
   "execution_count": null,
   "metadata": {
    "collapsed": true
   },
   "outputs": [],
   "source": []
  },
  {
   "cell_type": "markdown",
   "metadata": {},
   "source": [
    "Подгоняем корнем"
   ]
  },
  {
   "cell_type": "code",
   "execution_count": 50,
   "metadata": {
    "collapsed": true
   },
   "outputs": [],
   "source": [
    "mod_comps = np.array(mod_samples[0][2])/1000\n",
    "exp_comps =np.array(exp_samples[0][2])/1000\n",
    "\n",
    "brute_comps =np.array(exp_samples[0][3])/1000"
   ]
  },
  {
   "cell_type": "code",
   "execution_count": 98,
   "metadata": {
    "collapsed": true
   },
   "outputs": [],
   "source": [
    "t =10\n",
    "k1 = mod_comps[t:].dot(np.sqrt(ref_points[t:]))/np.sum(ref_points[t:])\n",
    "k2 = exp_comps[t:].dot(np.sqrt(ref_points[t:]))/np.sum(ref_points[t:])"
   ]
  },
  {
   "cell_type": "code",
   "execution_count": 103,
   "metadata": {},
   "outputs": [
    {
     "name": "stdout",
     "output_type": "stream",
     "text": [
      "14.5193155951 28.3413238752\n"
     ]
    }
   ],
   "source": [
    "print(k1,k2)"
   ]
  },
  {
   "cell_type": "code",
   "execution_count": 154,
   "metadata": {},
   "outputs": [
    {
     "data": {
      "image/png": "[encoded data removed]",
      "text/plain": [
       "<matplotlib.figure.Figure at 0x1da1123d710>"
      ]
     },
     "metadata": {},
     "output_type": "display_data"
    }
   ],
   "source": [
    "points_for_line = np.array([2e3,5.2e5])\n",
    "plt.plot(points_for_line, k1*np.sqrt(points_for_line),c ='black')\n",
    "plt.plot(points_for_line, k2*np.sqrt(points_for_line),c ='gray')\n",
    "plt.plot(points_for_line, points_for_line,c ='yellow')\n",
    "plt.scatter(ref_points, np.array(mod_comps),linewidths=0.1,c ='red')\n",
    "plt.scatter(ref_points, np.array(exp_comps),linewidths=0.1,c ='green')\n",
    "plt.scatter(ref_points, brute_comps, linewidths=0.1,c ='blue')\n",
    "plt.legend([\"14.5$\\sqrt{x}$\",\"28.3$\\sqrt{x}$\",\"x\",\"simulated\",\"experiment\",\"brute force\"])\n",
    "plt.yscale('log')\n",
    "plt.xscale('log')\n",
    "#plt.axis([2.9,6,2.4,6])\n",
    "plt.xlabel(\"Size of database\")\n",
    "plt.ylabel(\"Num of comparations\")\n",
    "#plt.title(\"Number of distance evaluations\")\n",
    "\n",
    "plt.savefig(\"comps for dif test.tiff\",format = 'tiff',dpi=500)\n",
    "plt.show()"
   ]
  },
  {
   "cell_type": "code",
   "execution_count": 145,
   "metadata": {},
   "outputs": [
    {
     "name": "stdout",
     "output_type": "stream",
     "text": [
      "48.7588836226\n",
      "24.9792713459\n"
     ]
    }
   ],
   "source": [
    "#Уменьшение количества сравнений\n",
    "print(np.sqrt(ref_points[len(ref_points) - 1])/k1)\n",
    "print(np.sqrt(ref_points[len(ref_points) - 1])/k2)"
   ]
  },
  {
   "cell_type": "code",
   "execution_count": 136,
   "metadata": {
    "collapsed": true
   },
   "outputs": [],
   "source": [
    "t =12\n",
    "k3 = mod_times_mean[t:].dot(np.sqrt(ref_points[t:]))/np.sum(ref_points[t:])\n",
    "k4 = exp_times_mean[t:].dot(np.sqrt(ref_points[t:]))/np.sum(ref_points[t:])"
   ]
  },
  {
   "cell_type": "code",
   "execution_count": 137,
   "metadata": {},
   "outputs": [
    {
     "name": "stdout",
     "output_type": "stream",
     "text": [
      "0.00939844553136 0.0177784420716\n"
     ]
    }
   ],
   "source": [
    "print(k3,k4)"
   ]
  },
  {
   "cell_type": "code",
   "execution_count": 138,
   "metadata": {},
   "outputs": [
    {
     "name": "stdout",
     "output_type": "stream",
     "text": [
      "0.000334389758076\n",
      "-0.0290026975763\n"
     ]
    }
   ],
   "source": [
    "gap = brute_times_mean[len(brute_times_mean)-1] - brute_times_mean[0]\n",
    "gap2 =  ref_points[len(ref_points) -1] - ref_points[0]\n",
    "k = gap/gap2 \n",
    "print(k)\n",
    "b = brute_times_mean[len(brute_times_mean)-1] - ref_points[len(ref_points) -1]*k\n",
    "print(b)"
   ]
  },
  {
   "cell_type": "code",
   "execution_count": 153,
   "metadata": {},
   "outputs": [
    {
     "data": {
      "image/png": "[encoded data removed]",
      "text/plain": [
       "<matplotlib.figure.Figure at 0x1da11656400>"
      ]
     },
     "metadata": {},
     "output_type": "display_data"
    }
   ],
   "source": [
    "points_for_line = np.array([1e3,6e5])\n",
    "plt.plot(points_for_line, k3*np.sqrt(points_for_line),c ='black')\n",
    "plt.plot(points_for_line, k4*np.sqrt(points_for_line),c ='gray')\n",
    "plt.plot(points_for_line, k*points_for_line,c ='yellow')\n",
    "plt.scatter(ref_points, np.array(mod_times_mean),linewidths=0.1,c ='red')\n",
    "plt.scatter(ref_points, np.array(exp_times_mean),linewidths=0.1,c ='green')\n",
    "plt.scatter(ref_points, brute_times_mean, linewidths=0.1,c ='blue')\n",
    "plt.legend([\"0.009$\\sqrt{x}$\",\"0.018$\\sqrt{x}$\",\"0.0033x\",\"simulated\",\"experiment\",\"brute force\"])\n",
    "plt.yscale('log')\n",
    "plt.xscale('log')\n",
    "#plt.axis([2.9,6,1e-1,1e2])\n",
    "plt.xlabel(\"Size of database\")\n",
    "plt.ylabel(\"Time, ms\")\n",
    "#plt.title(\"Number of distance evaluations\")\n",
    "\n",
    "plt.savefig(\"times for dif test.tiff\",format = 'tiff',dpi=500)\n",
    "plt.show()"
   ]
  },
  {
   "cell_type": "code",
   "execution_count": 148,
   "metadata": {},
   "outputs": [
    {
     "name": "stdout",
     "output_type": "stream",
     "text": [
      "25.1838238778\n",
      "13.3132473607\n"
     ]
    }
   ],
   "source": [
    "print(brute_times_mean[len(ref_points) - 1]/k3/np.sqrt(ref_points[len(ref_points) - 1]))\n",
    "print(brute_times_mean[len(ref_points) - 1]/k4/np.sqrt(ref_points[len(ref_points) - 1]))"
   ]
  }
 ],
 "metadata": {
  "kernelspec": {
   "display_name": "Python 3",
   "language": "python",
   "name": "python3"
  },
  "language_info": {
   "codemirror_mode": {
    "name": "ipython",
    "version": 3
   },
   "file_extension": ".py",
   "mimetype": "text/x-python",
   "name": "python",
   "nbconvert_exporter": "python",
   "pygments_lexer": "ipython3",
   "version": "3.6.1"
  }
 },
 "nbformat": 4,
 "nbformat_minor": 2
}
